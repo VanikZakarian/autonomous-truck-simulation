{
 "cells": [
  {
   "cell_type": "code",
   "execution_count": 2,
   "id": "d5cec21f",
   "metadata": {
    "scrolled": true
   },
   "outputs": [
    {
     "name": "stdout",
     "output_type": "stream",
     "text": [
      "Index(['Manufacturer', 'Permit Number', 'DATE', 'VIN NUMBER',\n",
      "       'VEHICLE IS CAPABLE OF OPERATING WITHOUT A DRIVER\\n(Yes or No)',\n",
      "       'DRIVER PRESENT\\n(Yes or No)',\n",
      "       'DISENGAGEMENT INITIATED BY\\n(AV System, Test Driver, Remote Operator, or Passenger)',\n",
      "       'DISENGAGEMENT\\nLOCATION\\n(Interstate, Freeway, Highway, Rural Road, Street, or Parking Facility)',\n",
      "       'DESCRIPTION OF FACTS CAUSING DISENGAGEMENT'],\n",
      "      dtype='object')\n"
     ]
    }
   ],
   "source": [
    "import pandas as pd\n",
    "\n",
    "df = pd.read_csv('2022-autonomous-vehicle-disengagement-reports-csv.csv', encoding='ISO-8859-1')\n",
    "print(df.columns)\n"
   ]
  },
  {
   "cell_type": "code",
   "execution_count": 3,
   "id": "4ac1bb38",
   "metadata": {},
   "outputs": [
    {
     "name": "stdout",
     "output_type": "stream",
     "text": [
      "Disengagements by Manufacturer:\n",
      " Manufacturer\n",
      "AIMOTIVE INC.                                                680\n",
      "APPLE INC.                                                  5982\n",
      "ARGO AI, LLC                                                   1\n",
      "AUTOX TECHNOLOGIES, INC                                        1\n",
      "CRUISE LLC                                                     9\n",
      "DIDI RESEARCH AMERICA, LLC                                     2\n",
      "GATIK AI INC                                                   3\n",
      "GHOST AUTONOMY INC                                           448\n",
      "IMAGRY INC                                                   204\n",
      "INTEL CORPORATION                                            155\n",
      "MERCEDES-BENZ RESEARCH & DEVELOPMENT NORTH AMERICA, INC.      38\n",
      "MOTIONAL AD, INC.                                            135\n",
      "NISSAN NORTH AMERICA, INC DBA ALLIANCE INNOVATION LAB          8\n",
      "NURO, INC                                                     15\n",
      "NVIDIA CORPORATION                                             7\n",
      "PONY.AI, INC.                                                 20\n",
      "QCRAFT INC.                                                    3\n",
      "QUALCOMM TECHNOLOGIES, INC.                                  128\n",
      "TOYOTA RESEARCH INSTITUTE                                    112\n",
      "VALEO NORTH AMERICA INC.                                      71\n",
      "WAYMO LLC                                                    170\n",
      "WERIDE CORP                                                    3\n",
      "ZOOX INC                                                      21\n",
      "dtype: int64 \n",
      "\n"
     ]
    }
   ],
   "source": [
    "#Summary of disengagements by Manufacturer\n",
    "manufacturer_summary = df.groupby('Manufacturer').size()\n",
    "print(\"Disengagements by Manufacturer:\\n\", manufacturer_summary, \"\\n\")"
   ]
  },
  {
   "cell_type": "code",
   "execution_count": 4,
   "id": "1626232b",
   "metadata": {},
   "outputs": [
    {
     "name": "stdout",
     "output_type": "stream",
     "text": [
      "Percentage of Vehicles Capable of Operating Without a Driver: 0.04%\n",
      "\n"
     ]
    }
   ],
   "source": [
    "#Percentage of vehicles capable of operating without a driver\n",
    "capable_vehicles = df[df['VEHICLE IS CAPABLE OF OPERATING WITHOUT A DRIVER\\n(Yes or No)'].str.upper() == 'YES'].shape[0]\n",
    "total_vehicles = df.shape[0]\n",
    "percentage_capable = (capable_vehicles / total_vehicles) * 100\n",
    "\n",
    "print(f\"Percentage of Vehicles Capable of Operating Without a Driver: {percentage_capable:.2f}%\\n\")\n",
    "\n"
   ]
  },
  {
   "cell_type": "code",
   "execution_count": 16,
   "id": "306c9f84",
   "metadata": {},
   "outputs": [
    {
     "name": "stdout",
     "output_type": "stream",
     "text": [
      "Disengagements Initiated By (in %):\n",
      " Test Driver    80.294547\n",
      "AV System      11.355891\n",
      "Test driver     8.300876\n",
      "ADS             0.036514\n",
      "AV system       0.012171\n",
      "Name: DisengagementBy, dtype: float64 \n",
      "\n"
     ]
    }
   ],
   "source": [
    "# Renamed column\n",
    "df = df.rename(columns={\n",
    "    'DISENGAGEMENT INITIATED BY\\n(AV System, Test Driver, Remote Operator, or Passenger)': 'DisengagementBy'\n",
    "})\n",
    "\n",
    "\n",
    "\n",
    "#Percentage of disengagements initiated by each entity\n",
    "disengagement_by_entity = df['DisengagementBy'].value_counts(normalize=True) * 100\n",
    "print(\"Disengagements Initiated By (in %):\\n\", disengagement_by_entity, \"\\n\")"
   ]
  },
  {
   "cell_type": "code",
   "execution_count": 6,
   "id": "8dedbfe5",
   "metadata": {},
   "outputs": [
    {
     "name": "stdout",
     "output_type": "stream",
     "text": [
      "object detection issue                        225\n",
      "traffic situation                             124\n",
      "Navigation/Localisation issue                  82\n",
      "lane detection issue                           37\n",
      "bad lane detection in exit/merge lane          15\n",
      "limited control actuation, detection issue      4\n",
      "object or lane detection issue                  1\n",
      "Name: Root Cause, dtype: int64\n"
     ]
    }
   ],
   "source": [
    "import re\n",
    "\n",
    "def extract_info(description):\n",
    "    event_pattern = r\"(.*?)[.]\\s*Root cause:\"\n",
    "    root_cause_pattern = r\"Root cause:\\s*(.*?)[.]\\s*Conditions:\"\n",
    "    conditions_pattern = r\"Conditions:\\s*(.*?)[.]\"\n",
    "\n",
    "    event = re.search(event_pattern, description)\n",
    "    root_cause = re.search(root_cause_pattern, description)\n",
    "    conditions = re.search(conditions_pattern, description)\n",
    "\n",
    "    return event.group(1) if event else None, root_cause.group(1) if root_cause else None, conditions.group(1) if conditions else None\n",
    "\n",
    "\n",
    "df['Event'], df['Root Cause'], df['Conditions'] = zip(*df['DESCRIPTION OF FACTS CAUSING DISENGAGEMENT'].apply(extract_info))\n",
    "\n",
    "print(df['Root Cause'].value_counts())\n"
   ]
  },
  {
   "cell_type": "code",
   "execution_count": 7,
   "id": "580df034",
   "metadata": {},
   "outputs": [
    {
     "name": "stdout",
     "output_type": "stream",
     "text": [
      "172    The test vehicle could not perform the lane ch...\n",
      "170    The test vehicle could not perform the lane ch...\n",
      "629    The test vehicle could not perform the lane ch...\n",
      "311    The test vehicle could not perform the lane ch...\n",
      "443    The test vehicle could not perform the lane ch...\n",
      "396    The test vehicle could not perform the lane ch...\n",
      "211    The test vehicle could not perform the lane ch...\n",
      "315    The test vehicle could not perform the lane ch...\n",
      "428    The test vehicle could not perform the lane ch...\n",
      "218    The test vehicle could not perform the lane ch...\n",
      "Name: DESCRIPTION OF FACTS CAUSING DISENGAGEMENT, dtype: object\n"
     ]
    }
   ],
   "source": [
    "#Traffic situtation subset\n",
    "traffic_situation_descriptions = df[df['Root Cause'] == 'traffic situation']['DESCRIPTION OF FACTS CAUSING DISENGAGEMENT']\n",
    "print(traffic_situation_descriptions.sample(10))\n"
   ]
  },
  {
   "cell_type": "code",
   "execution_count": 8,
   "id": "6a719530",
   "metadata": {},
   "outputs": [
    {
     "name": "stdout",
     "output_type": "stream",
     "text": [
      "The test vehicle could not perform the lane change into the exit lane or merge to highway and could not follow the planned route    124\n",
      "Name: Event, dtype: int64\n",
      "Non-inclement weather, dry roads, no other factors involved    124\n",
      "Name: Conditions, dtype: int64\n"
     ]
    }
   ],
   "source": [
    "traffic_situation_events = df[df['Root Cause'] == 'traffic situation']['Event']\n",
    "print(traffic_situation_events.value_counts().head(10))\n",
    "\n",
    "traffic_situation_conditions = df[df['Root Cause'] == 'traffic situation']['Conditions']\n",
    "print(traffic_situation_conditions.value_counts().head(10))\n"
   ]
  },
  {
   "cell_type": "code",
   "execution_count": 25,
   "id": "e7faa97f",
   "metadata": {},
   "outputs": [
    {
     "name": "stdout",
     "output_type": "stream",
     "text": [
      "bad lane detection in exit/merge lane         4443\n",
      "object detection issue                        1263\n",
      "limited control actuation, detection issue    1167\n",
      "Other                                          856\n",
      "Navigation/Localisation issue                  335\n",
      "lane detection issue                           110\n",
      "traffic situation                               41\n",
      "object or lane detection issue                   1\n",
      "Name: Cause Category, dtype: int64\n"
     ]
    }
   ],
   "source": [
    "from fuzzywuzzy import process\n",
    "\n",
    "\n",
    "common_causes = [\n",
    "    \"object detection issue\",\n",
    "    \"traffic situation\",\n",
    "    \"Navigation/Localisation issue\",\n",
    "    \"lane detection issue\",\n",
    "    \"bad lane detection in exit/merge lane\",\n",
    "    \"limited control actuation, detection issue\",\n",
    "    \"object or lane detection issue\"\n",
    "]\n",
    "\n",
    "# Function to classify description into one of the common causes\n",
    "def classify_description(desc):\n",
    "    match, score = process.extractOne(desc, common_causes)\n",
    "    if score > 80:  \n",
    "        return match\n",
    "    return \"Other\"\n",
    "\n",
    "df['Cause Category'] = df['DESCRIPTION OF FACTS CAUSING DISENGAGEMENT'].apply(classify_description)  # Replace 'DescriptionColumnName' with actual column name\n",
    "\n",
    "\n",
    "print(df['Cause Category'].value_counts())\n"
   ]
  },
  {
   "cell_type": "code",
   "execution_count": 28,
   "id": "4a86bc49",
   "metadata": {},
   "outputs": [
    {
     "name": "stdout",
     "output_type": "stream",
     "text": [
      "bad lane detection in exit/merge lane         54.077410\n",
      "object detection issue                        15.372444\n",
      "limited control actuation, detection issue    14.203992\n",
      "Other                                         10.418695\n",
      "Navigation/Localisation issue                  4.077410\n",
      "lane detection issue                           1.338851\n",
      "traffic situation                              0.499026\n",
      "object or lane detection issue                 0.012171\n",
      "Name: Cause Category, dtype: float64\n"
     ]
    }
   ],
   "source": [
    "#Percentages of each category\n",
    "percentages = (counts / counts.sum()) * 100\n",
    "\n",
    "print(percentages)\n"
   ]
  },
  {
   "cell_type": "code",
   "execution_count": 29,
   "id": "9ff55125",
   "metadata": {},
   "outputs": [
    {
     "name": "stdout",
     "output_type": "stream",
     "text": [
      "test vehicle could have got too close to another vehicle             7293\n",
      "Other                                                                 478\n",
      "Unnecessary lane change                                               155\n",
      "The test vehicle attepted to lane change to shoulder/express lane     128\n",
      "limited control actuation, detection issue                             69\n",
      "SW couldnt perform the manuever safely                                 44\n",
      "During a lane change a faster car approached in the target lane        40\n",
      "object or lane detection issue                                          9\n",
      "Name: Cause Category, dtype: int64\n"
     ]
    }
   ],
   "source": [
    "from fuzzywuzzy import process\n",
    "\n",
    "\n",
    "common_causes = [\n",
    "    \"Unnecessary lane change\",\n",
    "    \"test vehicle could have got too close to another vehicle\",\n",
    "    \"SW couldnt perform the manuever safely\",\n",
    "    \"The test vehicle attepted to lane change to shoulder/express lane\",\n",
    "    \"During a lane change a faster car approached in the target lane\",\n",
    "    \"limited control actuation, detection issue\",\n",
    "    \"object or lane detection issue\"\n",
    "]\n",
    "\n",
    "# Function to classify description into one of the common causes\n",
    "def classify_description(desc):\n",
    "    match, score = process.extractOne(desc, common_causes)\n",
    "    if score > 80:  # You can adjust this threshold based on your needs\n",
    "        return match\n",
    "    return \"Other\"\n",
    "\n",
    "\n",
    "df['Cause Category'] = df['DESCRIPTION OF FACTS CAUSING DISENGAGEMENT'].apply(classify_description)  # Replace 'DescriptionColumnName' with actual column name\n",
    "\n",
    "# Print counts of each category\n",
    "print(df['Cause Category'].value_counts())"
   ]
  }
 ],
 "metadata": {
  "kernelspec": {
   "display_name": "Python 3 (ipykernel)",
   "language": "python",
   "name": "python3"
  },
  "language_info": {
   "codemirror_mode": {
    "name": "ipython",
    "version": 3
   },
   "file_extension": ".py",
   "mimetype": "text/x-python",
   "name": "python",
   "nbconvert_exporter": "python",
   "pygments_lexer": "ipython3",
   "version": "3.9.7"
  }
 },
 "nbformat": 4,
 "nbformat_minor": 5
}
